{
 "cells": [
  {
   "cell_type": "code",
   "execution_count": 186,
   "id": "initial_id",
   "metadata": {
    "ExecuteTime": {
     "end_time": "2023-11-08T18:14:05.357685700Z",
     "start_time": "2023-11-08T18:14:04.519756800Z"
    },
    "collapsed": true,
    "jupyter": {
     "outputs_hidden": true
    }
   },
   "outputs": [],
   "source": [
    "import numpy as np\n",
    "\n",
    "import ann\n",
    "from activation_functions import sigmoid\n",
    "from cost_functions import squared_error, mean_squared_error\n",
    "from number_generation import zeros, normal\n",
    "import matplotlib.pyplot as plt"
   ]
  },
  {
   "cell_type": "code",
   "execution_count": 187,
   "id": "7cb82ea02bbc2058",
   "metadata": {
    "ExecuteTime": {
     "end_time": "2023-11-08T18:14:05.359192700Z",
     "start_time": "2023-11-08T18:14:04.976669500Z"
    },
    "collapsed": false,
    "jupyter": {
     "outputs_hidden": false
    }
   },
   "outputs": [],
   "source": [
    "training_examples = np.identity(8)\n",
    "number_generation_kwargs = {'mu': 0, 'sigma': 0.1}\n",
    "costs = []"
   ]
  },
  {
   "cell_type": "markdown",
   "id": "acca96fbec40887b",
   "metadata": {
    "collapsed": false,
    "jupyter": {
     "outputs_hidden": false
    }
   },
   "source": [
    "#### Model 1 (1000 epochs)"
   ]
  },
  {
   "cell_type": "code",
   "execution_count": 188,
   "id": "bf7e593d72de66fe",
   "metadata": {
    "ExecuteTime": {
     "end_time": "2023-11-08T18:14:05.472795800Z",
     "start_time": "2023-11-08T18:14:04.981123100Z"
    },
    "collapsed": false,
    "jupyter": {
     "outputs_hidden": false
    }
   },
   "outputs": [],
   "source": [
    "ann_model_1 = ann.ANN(8, [3], 8, sigmoid, squared_error, normal, zeros, add_bias=True, **number_generation_kwargs)\n",
    "ann_model_1.train(training_examples, training_examples, 1000, 0.1)"
   ]
  },
  {
   "cell_type": "code",
   "execution_count": 189,
   "id": "cc28fa0df6d77762",
   "metadata": {
    "ExecuteTime": {
     "end_time": "2023-11-08T18:14:05.472795800Z",
     "start_time": "2023-11-08T18:14:05.452815800Z"
    },
    "collapsed": false,
    "jupyter": {
     "outputs_hidden": false
    }
   },
   "outputs": [
    {
     "name": "stdout",
     "output_type": "stream",
     "text": [
      "input: [1. 0. 0. 0. 0. 0. 0. 0.], output: [0.15 0.12 0.12 0.1  0.14 0.1  0.2  0.11]\n",
      "input: [0. 1. 0. 0. 0. 0. 0. 0.], output: [0.14 0.13 0.11 0.12 0.15 0.13 0.15 0.11]\n",
      "input: [0. 0. 1. 0. 0. 0. 0. 0.], output: [0.14 0.13 0.2  0.17 0.13 0.17 0.19 0.15]\n",
      "input: [0. 0. 0. 1. 0. 0. 0. 0.], output: [0.11 0.13 0.15 0.21 0.13 0.26 0.1  0.14]\n",
      "input: [0. 0. 0. 0. 1. 0. 0. 0.], output: [0.15 0.14 0.12 0.12 0.18 0.13 0.19 0.11]\n",
      "input: [0. 0. 0. 0. 0. 1. 0. 0.], output: [0.11 0.13 0.16 0.25 0.14 0.31 0.09 0.14]\n",
      "input: [0. 0. 0. 0. 0. 0. 1. 0.], output: [0.18 0.14 0.15 0.09 0.17 0.08 0.31 0.13]\n",
      "input: [0. 0. 0. 0. 0. 0. 0. 1.], output: [0.13 0.12 0.14 0.14 0.12 0.15 0.14 0.13]\n",
      "cost: 1.56273\n"
     ]
    }
   ],
   "source": [
    "predictions = ann_model_1.feed_forward(training_examples)\n",
    "for i, prediction in enumerate(predictions):\n",
    "    print(f\"input: {training_examples[i]}, output: {np.around(prediction, 2)}\")\n",
    "    \n",
    "cost = round(mean_squared_error(predictions, training_examples), 5)\n",
    "costs.append(cost)\n",
    "print(f\"cost: {cost}\")"
   ]
  },
  {
   "cell_type": "code",
   "execution_count": 190,
   "id": "e18a02ca0eb9511",
   "metadata": {
    "ExecuteTime": {
     "end_time": "2023-11-08T18:14:05.473796Z",
     "start_time": "2023-11-08T18:14:05.463373500Z"
    },
    "collapsed": false,
    "jupyter": {
     "outputs_hidden": false
    }
   },
   "outputs": [
    {
     "name": "stdout",
     "output_type": "stream",
     "text": [
      "layer 1 weights: \n",
      "[[ 1.    0.61 -0.69 -1.07  0.84 -1.41  1.21 -0.13]\n",
      " [ 0.43 -0.04  0.45 -0.1  -0.63 -0.58  0.2   0.68]\n",
      " [-0.08  0.44 -0.64  0.8   0.1   1.08 -1.42  0.18]]\n",
      "layer 1 biases: \n",
      "0\n",
      "\n",
      "layer 2 weights: \n",
      "[[ 0.43 -0.22 -0.78]\n",
      " [ 0.03 -0.74 -0.25]\n",
      " [-1.15 -0.08 -1.19]\n",
      " [-1.6  -0.65  0.28]\n",
      " [ 0.36 -1.26 -0.52]\n",
      " [-1.89 -1.05  0.66]\n",
      " [ 0.85 -0.29 -2.03]\n",
      " [-0.73  0.02 -0.5 ]]\n",
      "layer 2 biases: \n",
      "[[-1.55]\n",
      " [-1.41]\n",
      " [-0.55]\n",
      " [-0.78]\n",
      " [-1.06]\n",
      " [-0.53]\n",
      " [-0.88]\n",
      " [-1.3 ]]\n"
     ]
    }
   ],
   "source": [
    "for i, layer in enumerate(ann_model_1.network):\n",
    "    print(f\"layer {i + 1} weights: \\n{np.around(layer.weights, 2)}\")\n",
    "    print(f\"layer {i + 1} biases: \\n{np.around(layer.bias, 2)}\")\n",
    "    print()"
   ]
  },
  {
   "cell_type": "markdown",
   "id": "b4e08b9418151d53",
   "metadata": {
    "collapsed": false,
    "jupyter": {
     "outputs_hidden": false
    }
   },
   "source": [
    "#### Model 2  (10 000 epochs)"
   ]
  },
  {
   "cell_type": "code",
   "execution_count": 191,
   "id": "fea8455169fe0a1e",
   "metadata": {
    "ExecuteTime": {
     "end_time": "2023-11-08T18:14:10.324144900Z",
     "start_time": "2023-11-08T18:14:05.469801Z"
    },
    "collapsed": false,
    "jupyter": {
     "outputs_hidden": false
    }
   },
   "outputs": [],
   "source": [
    "ann_model_2 = ann.ANN(8, [3], 8, sigmoid, squared_error, normal, zeros, add_bias=True, **number_generation_kwargs)\n",
    "ann_model_2.train(training_examples, training_examples, 10000, 0.1)"
   ]
  },
  {
   "cell_type": "code",
   "execution_count": 192,
   "id": "7b66268e91d867af",
   "metadata": {
    "ExecuteTime": {
     "end_time": "2023-11-08T18:14:10.325144500Z",
     "start_time": "2023-11-08T18:14:10.310867900Z"
    },
    "collapsed": false,
    "jupyter": {
     "outputs_hidden": false
    }
   },
   "outputs": [
    {
     "name": "stdout",
     "output_type": "stream",
     "text": [
      "input: [1. 0. 0. 0. 0. 0. 0. 0.], output: [0.93 0.   0.   0.05 0.05 0.   0.06 0.  ]\n",
      "input: [0. 1. 0. 0. 0. 0. 0. 0.], output: [0.   0.93 0.05 0.05 0.   0.   0.06 0.  ]\n",
      "input: [0. 0. 1. 0. 0. 0. 0. 0.], output: [0.   0.04 0.91 0.   0.   0.11 0.   0.03]\n",
      "input: [0. 0. 0. 1. 0. 0. 0. 0.], output: [0.05 0.05 0.   0.91 0.   0.   0.   0.06]\n",
      "input: [0. 0. 0. 0. 1. 0. 0. 0.], output: [0.04 0.   0.   0.   0.91 0.11 0.   0.04]\n",
      "input: [0. 0. 0. 0. 0. 1. 0. 0.], output: [0.   0.   0.05 0.   0.06 0.83 0.05 0.  ]\n",
      "input: [0. 0. 0. 0. 0. 0. 1. 0.], output: [0.04 0.03 0.   0.   0.   0.11 0.91 0.  ]\n",
      "input: [0. 0. 0. 0. 0. 0. 0. 1.], output: [0.   0.   0.06 0.05 0.06 0.   0.   0.93]\n",
      "cost: 0.04051\n"
     ]
    }
   ],
   "source": [
    "predictions = ann_model_2.feed_forward(training_examples)\n",
    "for i, prediction in enumerate(predictions):\n",
    "    print(f\"input: {training_examples[i]}, output: {np.around(prediction, 2)}\")\n",
    "    \n",
    "cost = round(mean_squared_error(predictions, training_examples), 5)\n",
    "costs.append(cost)\n",
    "print(f\"cost: {cost}\")"
   ]
  },
  {
   "cell_type": "code",
   "execution_count": 193,
   "id": "2030831914043aec",
   "metadata": {
    "ExecuteTime": {
     "end_time": "2023-11-08T18:14:10.325144500Z",
     "start_time": "2023-11-08T18:14:10.318417Z"
    },
    "collapsed": false,
    "jupyter": {
     "outputs_hidden": false
    }
   },
   "outputs": [
    {
     "name": "stdout",
     "output_type": "stream",
     "text": [
      "layer 1 weights: \n",
      "[[ 3.06 -3.85 -4.   -3.29  3.82  3.63  3.39 -3.55]\n",
      " [-3.64 -3.39  3.87 -3.87  3.63  3.64 -3.98  2.48]\n",
      " [-3.53  3.01  2.95 -3.36 -3.73  4.06  3.62 -4.11]]\n",
      "layer 1 biases: \n",
      "0\n",
      "\n",
      "layer 2 weights: \n",
      "[[ 5.95 -6.33 -6.31]\n",
      " [-6.55 -6.28  5.94]\n",
      " [-5.64  5.52  5.06]\n",
      " [-5.77 -6.08 -5.8 ]\n",
      " [ 5.18  5.32 -5.31]\n",
      " [ 3.73  3.77  3.87]\n",
      " [ 5.22 -5.57  5.28]\n",
      " [-6.36  5.76 -6.88]]\n",
      "layer 2 biases: \n",
      "[[-2.74]\n",
      " [-2.68]\n",
      " [-7.76]\n",
      " [ 2.84]\n",
      " [-7.8 ]\n",
      " [-9.53]\n",
      " [-7.76]\n",
      " [-2.44]]\n"
     ]
    }
   ],
   "source": [
    "for i, layer in enumerate(ann_model_2.network):\n",
    "    print(f\"layer {i + 1} weights: \\n{np.around(layer.weights, 2)}\")\n",
    "    print(f\"layer {i + 1} biases: \\n{np.around(layer.bias, 2)}\")\n",
    "    print()"
   ]
  },
  {
   "cell_type": "markdown",
   "id": "f7e61be2338b4565",
   "metadata": {
    "collapsed": false,
    "jupyter": {
     "outputs_hidden": false
    }
   },
   "source": [
    "#### Model 3 (100 000 epochs)"
   ]
  },
  {
   "cell_type": "code",
   "execution_count": 194,
   "id": "fcdafff603e6856f",
   "metadata": {
    "ExecuteTime": {
     "end_time": "2023-11-08T18:15:24.892104200Z",
     "start_time": "2023-11-08T18:14:10.325144500Z"
    },
    "collapsed": false,
    "jupyter": {
     "outputs_hidden": false
    }
   },
   "outputs": [],
   "source": [
    "ann_model_3 = ann.ANN(8, [3], 8, sigmoid, squared_error, normal, zeros, add_bias=True, **number_generation_kwargs)\n",
    "ann_model_3.train(training_examples, training_examples, 100000, 0.1)"
   ]
  },
  {
   "cell_type": "code",
   "execution_count": 195,
   "id": "f0572fc665dc25ea",
   "metadata": {
    "ExecuteTime": {
     "end_time": "2023-11-08T18:15:24.912941400Z",
     "start_time": "2023-11-08T18:15:24.895104200Z"
    },
    "collapsed": false,
    "jupyter": {
     "outputs_hidden": false
    }
   },
   "outputs": [
    {
     "name": "stdout",
     "output_type": "stream",
     "text": [
      "input: [1. 0. 0. 0. 0. 0. 0. 0.], output: [0.98 0.02 0.   0.   0.01 0.   0.   0.02]\n",
      "input: [0. 1. 0. 0. 0. 0. 0. 0.], output: [0.01 0.98 0.   0.01 0.   0.   0.02 0.  ]\n",
      "input: [0. 0. 1. 0. 0. 0. 0. 0.], output: [0.   0.   0.98 0.01 0.   0.01 0.02 0.  ]\n",
      "input: [0. 0. 0. 1. 0. 0. 0. 0.], output: [0.   0.01 0.01 0.98 0.02 0.   0.   0.  ]\n",
      "input: [0. 0. 0. 0. 1. 0. 0. 0.], output: [0.02 0.   0.   0.01 0.97 0.01 0.   0.  ]\n",
      "input: [0. 0. 0. 0. 0. 1. 0. 0.], output: [0.   0.   0.01 0.   0.01 0.98 0.   0.01]\n",
      "input: [0. 0. 0. 0. 0. 0. 1. 0.], output: [0.   0.01 0.01 0.   0.   0.   0.97 0.01]\n",
      "input: [0. 0. 0. 0. 0. 0. 0. 1.], output: [0.01 0.   0.   0.   0.   0.01 0.02 0.98]\n",
      "cost: 0.00228\n"
     ]
    }
   ],
   "source": [
    "predictions = ann_model_3.feed_forward(training_examples)\n",
    "for i, prediction in enumerate(predictions):\n",
    "    print(f\"input: {training_examples[i]}, output: {np.around(prediction, 2)}\")\n",
    "\n",
    "cost = round(mean_squared_error(predictions, training_examples), 5)\n",
    "costs.append(cost)\n",
    "print(f\"cost: {cost}\")"
   ]
  },
  {
   "cell_type": "code",
   "execution_count": 196,
   "id": "85dc259cece3a6da",
   "metadata": {
    "ExecuteTime": {
     "end_time": "2023-11-08T18:15:24.912941400Z",
     "start_time": "2023-11-08T18:15:24.902003800Z"
    },
    "collapsed": false,
    "jupyter": {
     "outputs_hidden": false
    }
   },
   "outputs": [
    {
     "name": "stdout",
     "output_type": "stream",
     "text": [
      "layer 1 weights: \n",
      "[[-5.33  1.09  2.86  4.89 -1.48 -4.27  5.21 -4.83]\n",
      " [-4.77 -5.02  4.21 -4.02 -1.77  4.72  4.64  2.11]\n",
      " [ 0.44  4.95 -4.91 -1.24 -6.07 -1.57  4.88  4.93]]\n",
      "layer 1 biases: \n",
      "0\n",
      "\n",
      "layer 2 weights: \n",
      "[[-13.86 -11.82   5.73]\n",
      " [  4.31  -9.47  11.55]\n",
      " [  7.14   6.73  -9.48]\n",
      " [ 10.43  -9.92  -7.37]\n",
      " [ -6.19  -7.14 -16.3 ]\n",
      " [-10.64   9.44  -8.94]\n",
      " [  7.28   5.96   7.32]\n",
      " [ -8.92   4.54  10.26]]\n",
      "layer 2 biases: \n",
      "[[  0.36]\n",
      " [-10.9 ]\n",
      " [ -9.34]\n",
      " [ -4.67]\n",
      " [  5.78]\n",
      " [ -3.76]\n",
      " [-16.78]\n",
      " [-10.34]]\n"
     ]
    }
   ],
   "source": [
    "for i, layer in enumerate(ann_model_3.network):\n",
    "    print(f\"layer {i + 1} weights: \\n{np.around(layer.weights, 2)}\")\n",
    "    print(f\"layer {i + 1} biases: \\n{np.around(layer.bias, 2)}\")\n",
    "    print()"
   ]
  },
  {
   "cell_type": "code",
   "execution_count": 221,
   "id": "88edb8ec217cc131",
   "metadata": {
    "ExecuteTime": {
     "end_time": "2023-11-08T18:16:16.708789600Z",
     "start_time": "2023-11-08T18:16:16.559396800Z"
    },
    "collapsed": false,
    "jupyter": {
     "outputs_hidden": false
    }
   },
   "outputs": [
    {
     "data": {
      "image/png": "[encoded data removed]",
      "text/plain": [
       "<Figure size 640x480 with 1 Axes>"
      ]
     },
     "metadata": {},
     "output_type": "display_data"
    }
   ],
   "source": [
    "x = np.array(costs)\n",
    "y = np.array([1000, 10000, 100000])\n",
    "\n",
    "plt.plot(y, x)\n",
    "plt.xlabel(\"epochs\")\n",
    "plt.ylabel(\"cost\")\n",
    "plt.show()"
   ]
  },
  {
   "cell_type": "markdown",
   "id": "8b81d23c66341498",
   "metadata": {
    "collapsed": false,
    "jupyter": {
     "outputs_hidden": false
    }
   },
   "source": [
    "Since the cost only decreased by 0.02792. Somewhere around 10 000 epochs lays the optimal amount.\n",
    "So for the next model 10 000 epochs will be used."
   ]
  },
  {
   "cell_type": "markdown",
   "id": "f57e44f2e48fd4ff",
   "metadata": {
    "collapsed": false,
    "jupyter": {
     "outputs_hidden": false
    }
   },
   "source": [
    "#### Model 4 (No bias)"
   ]
  },
  {
   "cell_type": "code",
   "execution_count": 197,
   "id": "bb2085623df7c366",
   "metadata": {
    "ExecuteTime": {
     "end_time": "2023-11-08T18:15:29.697731100Z",
     "start_time": "2023-11-08T18:15:24.914935700Z"
    },
    "collapsed": false,
    "jupyter": {
     "outputs_hidden": false
    }
   },
   "outputs": [],
   "source": [
    "ann_model_4 = ann.ANN(8, [3], 8, sigmoid, squared_error, normal, zeros, add_bias=False, **number_generation_kwargs)\n",
    "ann_model_4.train(training_examples, training_examples, 10000, 0.1)"
   ]
  },
  {
   "cell_type": "code",
   "execution_count": 198,
   "id": "db27446ef09aa950",
   "metadata": {
    "ExecuteTime": {
     "end_time": "2023-11-08T18:15:29.713977800Z",
     "start_time": "2023-11-08T18:15:29.702732Z"
    },
    "collapsed": false,
    "jupyter": {
     "outputs_hidden": false
    }
   },
   "outputs": [
    {
     "name": "stdout",
     "output_type": "stream",
     "text": [
      "input: [1. 0. 0. 0. 0. 0. 0. 0.], output: [0.88 0.   0.   0.06 0.06 0.   0.09 0.07]\n",
      "input: [0. 1. 0. 0. 0. 0. 0. 0.], output: [0.   0.88 0.06 0.06 0.06 0.   0.   0.07]\n",
      "input: [0. 0. 1. 0. 0. 0. 0. 0.], output: [0.   0.09 0.88 0.09 0.09 0.09 0.   0.  ]\n",
      "input: [0. 0. 0. 1. 0. 0. 0. 0.], output: [0.07 0.07 0.08 0.28 0.28 0.06 0.09 0.08]\n",
      "input: [0. 0. 0. 0. 1. 0. 0. 0.], output: [0.06 0.07 0.08 0.28 0.28 0.06 0.09 0.08]\n",
      "input: [0. 0. 0. 0. 0. 1. 0. 0.], output: [0.   0.   0.08 0.06 0.06 0.88 0.07 0.  ]\n",
      "input: [0. 0. 0. 0. 0. 0. 1. 0.], output: [0.1  0.   0.   0.09 0.09 0.1  0.86 0.  ]\n",
      "input: [0. 0. 0. 0. 0. 0. 0. 1.], output: [0.08 0.09 0.   0.09 0.09 0.   0.   0.88]\n",
      "cost: 0.37656\n"
     ]
    }
   ],
   "source": [
    "predictions = ann_model_4.feed_forward(training_examples)\n",
    "for i, prediction in enumerate(predictions):\n",
    "    print(f\"input: {training_examples[i]}, output: {np.around(prediction, 2)}\")\n",
    "    \n",
    "cost = round(mean_squared_error(predictions, training_examples), 5)\n",
    "print(f\"cost: {cost}\")"
   ]
  },
  {
   "cell_type": "code",
   "execution_count": 199,
   "id": "27702912127ef756",
   "metadata": {
    "ExecuteTime": {
     "end_time": "2023-11-08T18:15:29.814720200Z",
     "start_time": "2023-11-08T18:15:29.712976700Z"
    },
    "collapsed": false,
    "jupyter": {
     "outputs_hidden": false
    }
   },
   "outputs": [
    {
     "name": "stdout",
     "output_type": "stream",
     "text": [
      "layer 1 weights: \n",
      "[[-4.47  4.55  4.82 -1.36 -1.35  1.48 -1.83 -0.53]\n",
      " [ 1.69 -4.79 -0.55 -1.37 -1.38  4.83  4.47 -1.71]\n",
      " [ 4.66  1.22 -2.04 -1.4  -1.4  -4.82 -0.58  4.88]]\n",
      "layer 1 biases: \n",
      "0\n",
      "\n",
      "layer 2 weights: \n",
      "[[-14.91  -1.36   3.34]\n",
      " [  3.15 -14.53  -1.29]\n",
      " [  5.91  -7.21 -11.07]\n",
      " [ -1.56  -1.53  -1.48]\n",
      " [ -1.54  -1.54  -1.49]\n",
      " [ -1.82   3.58 -15.34]\n",
      " [-10.23   5.92  -7.3 ]\n",
      " [ -7.51 -10.52   6.42]]\n",
      "layer 2 biases: \n",
      "0\n"
     ]
    }
   ],
   "source": [
    "for i, layer in enumerate(ann_model_4.network):\n",
    "    print(f\"layer {i + 1} weights: \\n{np.around(layer.weights, 2)}\")\n",
    "    print(f\"layer {i + 1} biases: \\n{np.around(layer.bias, 2)}\")\n",
    "    print()"
   ]
  },
  {
   "cell_type": "markdown",
   "id": "c9049e0e783acd45",
   "metadata": {
    "collapsed": false,
    "jupyter": {
     "outputs_hidden": false
    }
   },
   "source": [
    "The cost is 0.52 for the model without bias with the same amount of epochs. "
   ]
  },
  {
   "cell_type": "markdown",
   "id": "e03f8bef8894098b",
   "metadata": {
    "collapsed": false,
    "jupyter": {
     "outputs_hidden": false
    }
   },
   "source": [
    "#### Model 5 (learning rate 100)"
   ]
  },
  {
   "cell_type": "code",
   "execution_count": 200,
   "id": "fa068ef6c1a8c9d8",
   "metadata": {
    "ExecuteTime": {
     "end_time": "2023-11-08T18:15:34.734509700Z",
     "start_time": "2023-11-08T18:15:29.729167500Z"
    },
    "collapsed": false,
    "jupyter": {
     "outputs_hidden": false
    }
   },
   "outputs": [],
   "source": [
    "ann_model_5 = ann.ANN(8, [3], 8, sigmoid, squared_error, normal, zeros, add_bias=True, **number_generation_kwargs)\n",
    "ann_model_5.train(training_examples, training_examples, 10000, 100)"
   ]
  },
  {
   "cell_type": "code",
   "execution_count": 201,
   "id": "d3afaf18f243436d",
   "metadata": {
    "ExecuteTime": {
     "end_time": "2023-11-08T18:15:34.759761900Z",
     "start_time": "2023-11-08T18:15:34.736509600Z"
    },
    "collapsed": false,
    "jupyter": {
     "outputs_hidden": false
    }
   },
   "outputs": [
    {
     "name": "stdout",
     "output_type": "stream",
     "text": [
      "input: [1. 0. 0. 0. 0. 0. 0. 0.], output: [0. 0. 0. 0. 0. 1. 0. 0.]\n",
      "input: [0. 1. 0. 0. 0. 0. 0. 0.], output: [0. 0. 0. 0. 0. 1. 0. 0.]\n",
      "input: [0. 0. 1. 0. 0. 0. 0. 0.], output: [0. 0. 0. 0. 0. 1. 0. 0.]\n",
      "input: [0. 0. 0. 1. 0. 0. 0. 0.], output: [0. 0. 0. 0. 0. 1. 0. 0.]\n",
      "input: [0. 0. 0. 0. 1. 0. 0. 0.], output: [0. 0. 0. 0. 0. 1. 0. 0.]\n",
      "input: [0. 0. 0. 0. 0. 1. 0. 0.], output: [0. 0. 0. 0. 0. 1. 0. 0.]\n",
      "input: [0. 0. 0. 0. 0. 0. 1. 0.], output: [0. 0. 0. 0. 0. 1. 0. 0.]\n",
      "input: [0. 0. 0. 0. 0. 0. 0. 1.], output: [0. 0. 0. 0. 0. 1. 0. 0.]\n",
      "cost: 3.5\n"
     ]
    }
   ],
   "source": [
    "predictions = ann_model_5.feed_forward(training_examples)\n",
    "for i, prediction in enumerate(predictions):\n",
    "    print(f\"input: {training_examples[i]}, output: {np.around(prediction, 2)}\")\n",
    "    \n",
    "cost = round(mean_squared_error(predictions, training_examples), 5)\n",
    "print(f\"cost: {cost}\")"
   ]
  },
  {
   "cell_type": "code",
   "execution_count": 202,
   "id": "b1a4d7dcc602dbb1",
   "metadata": {
    "ExecuteTime": {
     "end_time": "2023-11-08T18:15:34.759761900Z",
     "start_time": "2023-11-08T18:15:34.747497700Z"
    },
    "collapsed": false,
    "jupyter": {
     "outputs_hidden": false
    }
   },
   "outputs": [
    {
     "name": "stdout",
     "output_type": "stream",
     "text": [
      "layer 1 weights: \n",
      "[[ 0.07  0.01  0.21  0.14 -0.15 -1.24 -0.03  0.04]\n",
      " [-0.1  -0.01 -0.12 -0.09  0.02  0.11 -0.02 -0.03]\n",
      " [ 0.19  0.07  0.05 -0.08 -0.09 -0.26  0.04 -0.01]]\n",
      "layer 1 biases: \n",
      "0\n",
      "\n",
      "layer 2 weights: \n",
      "[[-6.12 -6.97 -6.75]\n",
      " [-6.11 -6.63 -6.36]\n",
      " [-6.06 -6.7  -6.38]\n",
      " [-6.03 -6.58 -6.41]\n",
      " [-5.94 -6.42 -6.29]\n",
      " [ 5.87  6.48  6.07]\n",
      " [-6.63 -6.96 -6.71]\n",
      " [-5.82 -6.28 -6.08]]\n",
      "layer 2 biases: \n",
      "[[-13.27]\n",
      " [-12.62]\n",
      " [-12.66]\n",
      " [-12.55]\n",
      " [-12.24]\n",
      " [ 12.06]\n",
      " [-13.66]\n",
      " [-11.86]]\n"
     ]
    }
   ],
   "source": [
    "for i, layer in enumerate(ann_model_5.network):\n",
    "    print(f\"layer {i + 1} weights: \\n{np.around(layer.weights, 2)}\")\n",
    "    print(f\"layer {i + 1} biases: \\n{np.around(layer.bias, 2)}\")\n",
    "    print()"
   ]
  },
  {
   "cell_type": "markdown",
   "id": "b0d0e5cec083381b",
   "metadata": {
    "collapsed": false,
    "jupyter": {
     "outputs_hidden": false
    }
   },
   "source": [
    "#### Model 6 (learning rate 10)"
   ]
  },
  {
   "cell_type": "code",
   "execution_count": 203,
   "id": "e31cb8a4568ea22a",
   "metadata": {
    "ExecuteTime": {
     "end_time": "2023-11-08T18:15:39.860859200Z",
     "start_time": "2023-11-08T18:15:34.756765100Z"
    },
    "collapsed": false,
    "jupyter": {
     "outputs_hidden": false
    }
   },
   "outputs": [],
   "source": [
    "ann_model_6 = ann.ANN(8, [3], 8, sigmoid, squared_error, normal, zeros, add_bias=True, **number_generation_kwargs)\n",
    "ann_model_6.train(training_examples, training_examples, 10000, 10)"
   ]
  },
  {
   "cell_type": "code",
   "execution_count": 204,
   "id": "6db0bfc7a054f2f6",
   "metadata": {
    "ExecuteTime": {
     "end_time": "2023-11-08T18:15:39.882473800Z",
     "start_time": "2023-11-08T18:15:39.862858Z"
    },
    "collapsed": false,
    "jupyter": {
     "outputs_hidden": false
    }
   },
   "outputs": [
    {
     "name": "stdout",
     "output_type": "stream",
     "text": [
      "input: [1. 0. 0. 0. 0. 0. 0. 0.], output: [0.99 0.   0.   0.   0.   0.   0.   0.  ]\n",
      "input: [0. 1. 0. 0. 0. 0. 0. 0.], output: [0.   0.99 0.01 0.01 0.   0.   0.   0.  ]\n",
      "input: [0. 0. 1. 0. 0. 0. 0. 0.], output: [0.01 0.   0.99 0.   0.   0.   0.   0.  ]\n",
      "input: [0. 0. 0. 1. 0. 0. 0. 0.], output: [0.   0.01 0.   0.99 0.   0.   0.   0.  ]\n",
      "input: [0. 0. 0. 0. 1. 0. 0. 0.], output: [0.   0.01 0.   0.   0.99 0.01 0.   0.  ]\n",
      "input: [0. 0. 0. 0. 0. 1. 0. 0.], output: [0.   0.   0.   0.   0.   0.99 0.   0.  ]\n",
      "input: [0. 0. 0. 0. 0. 0. 1. 0.], output: [0.   0.   0.   0.   0.   0.   0.99 0.  ]\n",
      "input: [0. 0. 0. 0. 0. 0. 0. 1.], output: [0.   0.   0.   0.   0.   0.   0.01 0.99]\n",
      "cost: 0.00023\n"
     ]
    }
   ],
   "source": [
    "predictions = ann_model_6.feed_forward(training_examples)\n",
    "for i, prediction in enumerate(predictions):\n",
    "    print(f\"input: {training_examples[i]}, output: {np.around(prediction, 2)}\")\n",
    "    \n",
    "cost = round(mean_squared_error(predictions, training_examples), 5)\n",
    "print(f\"cost: {cost}\")"
   ]
  },
  {
   "cell_type": "code",
   "execution_count": 205,
   "id": "9de218cb77b260d3",
   "metadata": {
    "ExecuteTime": {
     "end_time": "2023-11-08T18:15:39.883471100Z",
     "start_time": "2023-11-08T18:15:39.870483600Z"
    },
    "collapsed": false,
    "jupyter": {
     "outputs_hidden": false
    }
   },
   "outputs": [
    {
     "name": "stdout",
     "output_type": "stream",
     "text": [
      "layer 1 weights: \n",
      "[[ 6.34 -7.33 -0.21 -0.84 -0.94  5.22  5.24 -1.71]\n",
      " [ 0.39 -0.72 -5.71  5.63 -5.54 -4.84  5.14  2.55]\n",
      " [ 5.61  0.31  3.38  4.63 -6.   -1.56 -4.53 -5.46]]\n",
      "\n",
      "layer 2 weights: \n",
      "[[ 15.28   1.74  10.99]\n",
      " [-29.8   -4.47   5.01]\n",
      " [ -1.8  -17.27  13.52]\n",
      " [ -7.91  11.95  10.94]\n",
      " [-10.65 -13.41 -15.84]\n",
      " [ 15.66 -11.94  -5.05]\n",
      " [ 11.64   9.59  -7.32]\n",
      " [-13.6   10.76 -11.49]]\n"
     ]
    }
   ],
   "source": [
    "for i, layer in enumerate(ann_model_6.network):\n",
    "    print(f\"layer {i + 1} weights: \\n{np.around(layer.weights, 2)}\")\n",
    "    print()"
   ]
  },
  {
   "cell_type": "markdown",
   "id": "f06a0f589bea5b4b",
   "metadata": {
    "collapsed": false,
    "jupyter": {
     "outputs_hidden": false
    }
   },
   "source": [
    "#### Model 7 (learning rate 0.01)"
   ]
  },
  {
   "cell_type": "code",
   "execution_count": 206,
   "id": "cb078d3b1fa40285",
   "metadata": {
    "ExecuteTime": {
     "end_time": "2023-11-08T18:15:45.042840800Z",
     "start_time": "2023-11-08T18:15:39.878469100Z"
    },
    "collapsed": false,
    "jupyter": {
     "outputs_hidden": false
    }
   },
   "outputs": [],
   "source": [
    "ann_model_7 = ann.ANN(8, [3], 8, sigmoid, squared_error, normal, zeros, add_bias=True, **number_generation_kwargs)\n",
    "ann_model_7.train(training_examples, training_examples, 10000, 0.01)"
   ]
  },
  {
   "cell_type": "code",
   "execution_count": 207,
   "id": "717b720b6300de9e",
   "metadata": {
    "ExecuteTime": {
     "end_time": "2023-11-08T18:15:45.043841500Z",
     "start_time": "2023-11-08T18:15:44.998747Z"
    },
    "collapsed": false,
    "jupyter": {
     "outputs_hidden": false
    }
   },
   "outputs": [
    {
     "name": "stdout",
     "output_type": "stream",
     "text": [
      "input: [1. 0. 0. 0. 0. 0. 0. 0.], output: [0.18 0.09 0.14 0.17 0.09 0.19 0.14 0.16]\n",
      "input: [0. 1. 0. 0. 0. 0. 0. 0.], output: [0.1  0.43 0.11 0.16 0.36 0.06 0.16 0.12]\n",
      "input: [0. 0. 1. 0. 0. 0. 0. 0.], output: [0.14 0.09 0.17 0.12 0.14 0.27 0.11 0.13]\n",
      "input: [0. 0. 0. 1. 0. 0. 0. 0.], output: [0.18 0.15 0.14 0.21 0.12 0.14 0.17 0.17]\n",
      "input: [0. 0. 0. 0. 1. 0. 0. 0.], output: [0.07 0.32 0.11 0.09 0.42 0.08 0.11 0.09]\n",
      "input: [0. 0. 0. 0. 0. 1. 0. 0.], output: [0.17 0.05 0.22 0.11 0.1  0.47 0.1  0.13]\n",
      "input: [0. 0. 0. 0. 0. 0. 1. 0.], output: [0.14 0.14 0.11 0.16 0.14 0.11 0.15 0.14]\n",
      "input: [0. 0. 0. 0. 0. 0. 0. 1.], output: [0.16 0.1  0.13 0.16 0.11 0.14 0.14 0.15]\n",
      "cost: 1.40664\n"
     ]
    }
   ],
   "source": [
    "predictions = ann_model_7.feed_forward(training_examples)\n",
    "for i, prediction in enumerate(predictions):\n",
    "    print(f\"input: {training_examples[i]}, output: {np.around(prediction, 2)}\")\n",
    "    \n",
    "cost = round(mean_squared_error(predictions, training_examples), 5)\n",
    "print(f\"cost: {cost}\")"
   ]
  },
  {
   "cell_type": "code",
   "execution_count": 208,
   "id": "97a58b9c797b403a",
   "metadata": {
    "ExecuteTime": {
     "end_time": "2023-11-08T18:15:45.043841500Z",
     "start_time": "2023-11-08T18:15:45.008490800Z"
    },
    "collapsed": false,
    "jupyter": {
     "outputs_hidden": false
    }
   },
   "outputs": [
    {
     "name": "stdout",
     "output_type": "stream",
     "text": [
      "layer 1 weights: \n",
      "[[-0.54 -0.43  0.67 -1.28  1.26  1.21 -0.57 -0.5 ]\n",
      " [-0.27  1.28 -0.61 -0.12  1.51 -2.08  0.59  0.2 ]\n",
      " [ 1.1  -1.96  0.49  0.26 -1.3   1.06  0.56  0.92]]\n",
      "layer 1 biases: \n",
      "0\n",
      "\n",
      "layer 2 weights: \n",
      "[[-0.96 -0.95  0.45]\n",
      " [-0.69  0.97 -2.83]\n",
      " [ 0.29 -1.36 -0.22]\n",
      " [-1.67 -0.64 -0.36]\n",
      " [ 0.96  1.06 -2.1 ]\n",
      " [ 0.96 -2.89  0.46]\n",
      " [-1.05 -0.03 -0.24]\n",
      " [-0.97 -0.47  0.19]]\n",
      "layer 2 biases: \n",
      "[[-1.11]\n",
      " [-0.42]\n",
      " [-1.14]\n",
      " [-0.43]\n",
      " [-1.51]\n",
      " [-0.89]\n",
      " [-1.21]\n",
      " [-1.25]]\n"
     ]
    }
   ],
   "source": [
    "for i, layer in enumerate(ann_model_7.network):\n",
    "    print(f\"layer {i + 1} weights: \\n{np.around(layer.weights, 2)}\")\n",
    "    print(f\"layer {i + 1} biases: \\n{np.around(layer.bias, 2)}\")\n",
    "    print()"
   ]
  },
  {
   "cell_type": "markdown",
   "id": "bd78582ff330cd90",
   "metadata": {
    "collapsed": false,
    "jupyter": {
     "outputs_hidden": false
    }
   },
   "source": [
    "With a learning rate of 100 the gradient overshoots and does not learn correctly, with a rate of 10 it learns almost perfectly within 10 000 epochs, and with a learning rate of 0.01 it didn't converge within 10 000 epochs."
   ]
  },
  {
   "cell_type": "markdown",
   "id": "449c5937f6e576ab",
   "metadata": {
    "collapsed": false,
    "jupyter": {
     "outputs_hidden": false
    }
   },
   "source": [
    "#### Model 8 (weights initialized as 0, 1000 epochs)"
   ]
  },
  {
   "cell_type": "code",
   "execution_count": 209,
   "id": "c4055d5bd4e86a0b",
   "metadata": {
    "ExecuteTime": {
     "end_time": "2023-11-08T18:15:45.718521300Z",
     "start_time": "2023-11-08T18:15:45.020840Z"
    },
    "collapsed": false,
    "jupyter": {
     "outputs_hidden": false
    }
   },
   "outputs": [],
   "source": [
    "ann_model_8 = ann.ANN(8, [3], 8, sigmoid, squared_error, zeros, zeros, add_bias=True, **number_generation_kwargs)\n",
    "ann_model_8.train(training_examples, training_examples, 1000, 0.1)"
   ]
  },
  {
   "cell_type": "code",
   "execution_count": 210,
   "id": "b85a31722500d977",
   "metadata": {
    "ExecuteTime": {
     "end_time": "2023-11-08T18:15:45.735655700Z",
     "start_time": "2023-11-08T18:15:45.720531900Z"
    },
    "collapsed": false,
    "jupyter": {
     "outputs_hidden": false
    }
   },
   "outputs": [
    {
     "name": "stdout",
     "output_type": "stream",
     "text": [
      "input: [1. 0. 0. 0. 0. 0. 0. 0.], output: [0.12 0.12 0.12 0.12 0.12 0.12 0.12 0.12]\n",
      "input: [0. 1. 0. 0. 0. 0. 0. 0.], output: [0.12 0.12 0.12 0.12 0.12 0.12 0.12 0.12]\n",
      "input: [0. 0. 1. 0. 0. 0. 0. 0.], output: [0.12 0.12 0.12 0.12 0.12 0.12 0.12 0.12]\n",
      "input: [0. 0. 0. 1. 0. 0. 0. 0.], output: [0.12 0.12 0.12 0.12 0.12 0.12 0.12 0.12]\n",
      "input: [0. 0. 0. 0. 1. 0. 0. 0.], output: [0.12 0.12 0.12 0.12 0.12 0.12 0.12 0.12]\n",
      "input: [0. 0. 0. 0. 0. 1. 0. 0.], output: [0.12 0.12 0.12 0.12 0.12 0.12 0.12 0.12]\n",
      "input: [0. 0. 0. 0. 0. 0. 1. 0.], output: [0.12 0.12 0.12 0.12 0.12 0.12 0.12 0.12]\n",
      "input: [0. 0. 0. 0. 0. 0. 0. 1.], output: [0.12 0.12 0.12 0.12 0.12 0.12 0.12 0.12]\n",
      "cost: 1.75001\n"
     ]
    }
   ],
   "source": [
    "predictions = ann_model_8.feed_forward(training_examples)\n",
    "for i, prediction in enumerate(predictions):\n",
    "    print(f\"input: {training_examples[i]}, output: {np.around(prediction, 2)}\")\n",
    "    \n",
    "cost = round(mean_squared_error(predictions, training_examples), 5)\n",
    "print(f\"cost: {cost}\")"
   ]
  },
  {
   "cell_type": "code",
   "execution_count": 211,
   "id": "ff32c83a0f9c08ce",
   "metadata": {
    "ExecuteTime": {
     "end_time": "2023-11-08T18:15:45.735655700Z",
     "start_time": "2023-11-08T18:15:45.729202700Z"
    },
    "collapsed": false,
    "jupyter": {
     "outputs_hidden": false
    }
   },
   "outputs": [
    {
     "name": "stdout",
     "output_type": "stream",
     "text": [
      "layer 1 weights: \n",
      "[[0.07 0.07 0.07 0.07 0.07 0.07 0.07 0.07]\n",
      " [0.07 0.07 0.07 0.07 0.07 0.07 0.07 0.07]\n",
      " [0.07 0.07 0.07 0.07 0.07 0.07 0.07 0.07]]\n",
      "layer 1 biases: \n",
      "0\n",
      "\n",
      "layer 2 weights: \n",
      "[[-0.55 -0.55 -0.55]\n",
      " [-0.55 -0.55 -0.55]\n",
      " [-0.55 -0.55 -0.55]\n",
      " [-0.55 -0.55 -0.55]\n",
      " [-0.55 -0.55 -0.55]\n",
      " [-0.55 -0.55 -0.55]\n",
      " [-0.55 -0.55 -0.55]\n",
      " [-0.55 -0.55 -0.55]]\n",
      "layer 2 biases: \n",
      "[[-1.09]\n",
      " [-1.09]\n",
      " [-1.09]\n",
      " [-1.1 ]\n",
      " [-1.09]\n",
      " [-1.1 ]\n",
      " [-1.09]\n",
      " [-1.09]]\n"
     ]
    }
   ],
   "source": [
    "for i, layer in enumerate(ann_model_8.network):\n",
    "    print(f\"layer {i + 1} weights: \\n{np.around(layer.weights, 2)}\")\n",
    "    print(f\"layer {i + 1} biases: \\n{np.around(layer.bias, 2)}\")\n",
    "    print()"
   ]
  },
  {
   "cell_type": "markdown",
   "id": "852d860c186fe1a2",
   "metadata": {
    "collapsed": false,
    "jupyter": {
     "outputs_hidden": false
    }
   },
   "source": [
    "#### Model 9 (weights initialized as 0, 10000 epochs)"
   ]
  },
  {
   "cell_type": "code",
   "execution_count": 212,
   "id": "c9b07cc8f60f211b",
   "metadata": {
    "ExecuteTime": {
     "end_time": "2023-11-08T18:15:53.794414Z",
     "start_time": "2023-11-08T18:15:45.735655700Z"
    },
    "collapsed": false,
    "jupyter": {
     "outputs_hidden": false
    }
   },
   "outputs": [],
   "source": [
    "ann_model_9 = ann.ANN(8, [3], 8, sigmoid, squared_error, zeros, zeros, add_bias=True, **number_generation_kwargs)\n",
    "ann_model_9.train(training_examples, training_examples, 10000, 0.1)"
   ]
  },
  {
   "cell_type": "code",
   "execution_count": 213,
   "id": "1f5878993102f957",
   "metadata": {
    "ExecuteTime": {
     "end_time": "2023-11-08T18:15:53.794414Z",
     "start_time": "2023-11-08T18:15:53.785407500Z"
    },
    "collapsed": false,
    "jupyter": {
     "outputs_hidden": false
    }
   },
   "outputs": [
    {
     "name": "stdout",
     "output_type": "stream",
     "text": [
      "input: [1. 0. 0. 0. 0. 0. 0. 0.], output: [0.18 0.1  0.18 0.18 0.09 0.   0.09 0.07]\n",
      "input: [0. 1. 0. 0. 0. 0. 0. 0.], output: [0.09 0.15 0.09 0.09 0.   0.09 0.15 0.15]\n",
      "input: [0. 0. 1. 0. 0. 0. 0. 0.], output: [0.18 0.1  0.18 0.18 0.09 0.   0.09 0.07]\n",
      "input: [0. 0. 0. 1. 0. 0. 0. 0.], output: [0.18 0.1  0.18 0.18 0.09 0.   0.09 0.07]\n",
      "input: [0. 0. 0. 0. 1. 0. 0. 0.], output: [0.25 0.08 0.25 0.25 0.83 0.   0.07 0.05]\n",
      "input: [0. 0. 0. 0. 0. 1. 0. 0.], output: [0.05 0.2  0.05 0.05 0.   0.79 0.23 0.27]\n",
      "input: [0. 0. 0. 0. 0. 0. 1. 0.], output: [0.08 0.15 0.08 0.08 0.   0.12 0.16 0.16]\n",
      "input: [0. 0. 0. 0. 0. 0. 0. 1.], output: [0.08 0.16 0.08 0.08 0.   0.17 0.16 0.17]\n",
      "cost: 1.28603\n"
     ]
    }
   ],
   "source": [
    "predictions = ann_model_9.feed_forward(training_examples)\n",
    "for i, prediction in enumerate(predictions):\n",
    "    print(f\"input: {training_examples[i]}, output: {np.around(prediction, 2)}\")\n",
    "    \n",
    "cost = round(mean_squared_error(predictions, training_examples), 5)\n",
    "print(f\"cost: {cost}\")"
   ]
  },
  {
   "cell_type": "code",
   "execution_count": 214,
   "id": "e1a14c57a128177f",
   "metadata": {
    "ExecuteTime": {
     "end_time": "2023-11-08T18:15:53.815417600Z",
     "start_time": "2023-11-08T18:15:53.790438400Z"
    },
    "collapsed": false,
    "jupyter": {
     "outputs_hidden": false
    }
   },
   "outputs": [
    {
     "name": "stdout",
     "output_type": "stream",
     "text": [
      "layer 1 weights: \n",
      "[[-1.22  0.47 -1.22 -1.22 -3.65  3.37  0.62  0.78]\n",
      " [-1.22  0.47 -1.22 -1.22 -3.65  3.37  0.62  0.78]\n",
      " [-1.22  0.47 -1.22 -1.22 -3.65  3.37  0.62  0.78]]\n",
      "layer 1 biases: \n",
      "0\n",
      "\n",
      "layer 2 weights: \n",
      "[[-0.68 -0.68 -0.68]\n",
      " [ 0.36  0.36  0.36]\n",
      " [-0.67 -0.67 -0.67]\n",
      " [-0.68 -0.68 -0.68]\n",
      " [-6.39 -6.39 -6.39]\n",
      " [ 3.46  3.46  3.46]\n",
      " [ 0.51  0.51  0.51]\n",
      " [ 0.73  0.73  0.73]]\n",
      "layer 2 biases: \n",
      "[[-1.07]\n",
      " [-2.43]\n",
      " [-1.07]\n",
      " [-1.06]\n",
      " [ 2.09]\n",
      " [-8.72]\n",
      " [-2.67]\n",
      " [-3.09]]\n"
     ]
    }
   ],
   "source": [
    "for i, layer in enumerate(ann_model_9.network):\n",
    "    print(f\"layer {i + 1} weights: \\n{np.around(layer.weights, 2)}\")\n",
    "    print(f\"layer {i + 1} biases: \\n{np.around(layer.bias, 2)}\")\n",
    "    print()"
   ]
  },
  {
   "cell_type": "markdown",
   "id": "220aee0fcb62b25e",
   "metadata": {
    "collapsed": false,
    "jupyter": {
     "outputs_hidden": false
    }
   },
   "source": [
    "#### Model 10 (weights initialized as 0, 10000 epochs, no bias)"
   ]
  },
  {
   "cell_type": "code",
   "execution_count": 215,
   "id": "b61efb22bbc6584f",
   "metadata": {
    "ExecuteTime": {
     "end_time": "2023-11-08T18:15:58.798016800Z",
     "start_time": "2023-11-08T18:15:53.798416400Z"
    },
    "collapsed": false,
    "jupyter": {
     "outputs_hidden": false
    }
   },
   "outputs": [],
   "source": [
    "ann_model_10 = ann.ANN(8, [3], 8, sigmoid, squared_error, zeros, zeros, add_bias=False, **number_generation_kwargs)\n",
    "ann_model_10.train(training_examples, training_examples, 10000, 0.1)"
   ]
  },
  {
   "cell_type": "code",
   "execution_count": 216,
   "id": "d66e6518a6c457ae",
   "metadata": {
    "ExecuteTime": {
     "end_time": "2023-11-08T18:15:58.806387Z",
     "start_time": "2023-11-08T18:15:58.799982100Z"
    },
    "collapsed": false,
    "jupyter": {
     "outputs_hidden": false
    }
   },
   "outputs": [
    {
     "name": "stdout",
     "output_type": "stream",
     "text": [
      "input: [1. 0. 0. 0. 0. 0. 0. 0.], output: [0.12 0.12 0.12 0.12 0.12 0.12 0.12 0.12]\n",
      "input: [0. 1. 0. 0. 0. 0. 0. 0.], output: [0.12 0.12 0.12 0.12 0.12 0.12 0.12 0.12]\n",
      "input: [0. 0. 1. 0. 0. 0. 0. 0.], output: [0.12 0.12 0.12 0.12 0.12 0.12 0.12 0.12]\n",
      "input: [0. 0. 0. 1. 0. 0. 0. 0.], output: [0.12 0.12 0.12 0.12 0.12 0.12 0.12 0.12]\n",
      "input: [0. 0. 0. 0. 1. 0. 0. 0.], output: [0.12 0.12 0.12 0.12 0.12 0.12 0.12 0.12]\n",
      "input: [0. 0. 0. 0. 0. 1. 0. 0.], output: [0.12 0.12 0.12 0.12 0.12 0.12 0.12 0.12]\n",
      "input: [0. 0. 0. 0. 0. 0. 1. 0.], output: [0.12 0.12 0.12 0.12 0.12 0.12 0.12 0.12]\n",
      "input: [0. 0. 0. 0. 0. 0. 0. 1.], output: [0.12 0.12 0.12 0.12 0.12 0.12 0.12 0.12]\n",
      "cost: 1.75\n"
     ]
    }
   ],
   "source": [
    "predictions = ann_model_10.feed_forward(training_examples)\n",
    "for i, prediction in enumerate(predictions):\n",
    "    print(f\"input: {training_examples[i]}, output: {np.around(prediction, 2)}\")\n",
    "    \n",
    "cost = round(mean_squared_error(predictions, training_examples), 5)\n",
    "print(f\"cost: {cost}\")"
   ]
  },
  {
   "cell_type": "code",
   "execution_count": 217,
   "id": "2e50a62c17d5bb2a",
   "metadata": {
    "ExecuteTime": {
     "end_time": "2023-11-08T18:15:58.815877Z",
     "start_time": "2023-11-08T18:15:58.808395700Z"
    },
    "collapsed": false,
    "jupyter": {
     "outputs_hidden": false
    }
   },
   "outputs": [
    {
     "name": "stdout",
     "output_type": "stream",
     "text": [
      "layer 1 weights: \n",
      "[[0.24 0.24 0.24 0.24 0.24 0.24 0.24 0.24]\n",
      " [0.24 0.24 0.24 0.24 0.24 0.24 0.24 0.24]\n",
      " [0.24 0.24 0.24 0.24 0.24 0.24 0.24 0.24]]\n",
      "layer 1 biases: \n",
      "0\n",
      "\n",
      "layer 2 weights: \n",
      "[[-1.16 -1.16 -1.16]\n",
      " [-1.16 -1.16 -1.16]\n",
      " [-1.16 -1.16 -1.16]\n",
      " [-1.16 -1.16 -1.16]\n",
      " [-1.16 -1.16 -1.16]\n",
      " [-1.16 -1.16 -1.16]\n",
      " [-1.16 -1.16 -1.16]\n",
      " [-1.16 -1.16 -1.16]]\n",
      "layer 2 biases: \n",
      "0\n"
     ]
    }
   ],
   "source": [
    "for i, layer in enumerate(ann_model_10.network):\n",
    "    print(f\"layer {i + 1} weights: \\n{np.around(layer.weights, 2)}\")\n",
    "    print(f\"layer {i + 1} biases: \\n{np.around(layer.bias, 2)}\")\n",
    "    print()"
   ]
  },
  {
   "cell_type": "markdown",
   "id": "21213897af908b09",
   "metadata": {
    "collapsed": false,
    "jupyter": {
     "outputs_hidden": false
    }
   },
   "source": [
    "With the weights initialized as 0 the model learns minimally, this has probably to do with the fact that almost all backpropagation formula's use multiplication or the dot product only the bias can have non zero values."
   ]
  },
  {
   "cell_type": "markdown",
   "id": "7550a429fe16eb08",
   "metadata": {
    "collapsed": false,
    "jupyter": {
     "outputs_hidden": false
    }
   },
   "source": [
    "#### Model 11 (regularization, train with first 6 examples)"
   ]
  },
  {
   "cell_type": "code",
   "execution_count": 218,
   "id": "c0ab8ff52214bdf6",
   "metadata": {
    "ExecuteTime": {
     "end_time": "2023-11-08T18:16:02.565390200Z",
     "start_time": "2023-11-08T18:15:58.815877Z"
    },
    "collapsed": false,
    "jupyter": {
     "outputs_hidden": false
    }
   },
   "outputs": [],
   "source": [
    "ann_model_11 = ann.ANN(8, [3], 8, sigmoid, squared_error, normal, zeros, add_bias=True, **number_generation_kwargs)\n",
    "ann_model_11.train(training_examples[0:6], training_examples[0:6], 10000, 0.1)"
   ]
  },
  {
   "cell_type": "code",
   "execution_count": 219,
   "id": "ae71cacb3a140611",
   "metadata": {
    "ExecuteTime": {
     "end_time": "2023-11-08T18:16:02.575182800Z",
     "start_time": "2023-11-08T18:16:02.567387900Z"
    },
    "collapsed": false,
    "jupyter": {
     "outputs_hidden": false
    }
   },
   "outputs": [
    {
     "name": "stdout",
     "output_type": "stream",
     "text": [
      "input: [0. 0. 0. 0. 0. 0. 1. 0.], output: [0.03 0.03 0.02 0.04 0.03 0.02 0.   0.  ]\n",
      "input: [0. 0. 0. 0. 0. 0. 0. 1.], output: [0.01 0.02 0.03 0.04 0.03 0.03 0.   0.  ]\n",
      "cost: 1.99211\n"
     ]
    }
   ],
   "source": [
    "predictions = ann_model_11.feed_forward(training_examples[6:8])\n",
    "for i, prediction in enumerate(predictions):\n",
    "    print(f\"input: {training_examples[6:8][i]}, output: {np.around(prediction, 2)}\")\n",
    "    \n",
    "cost = round(mean_squared_error(predictions, training_examples[6:8]), 5)\n",
    "print(f\"cost: {cost}\")"
   ]
  },
  {
   "cell_type": "code",
   "execution_count": 220,
   "id": "75e98579779f3ab4",
   "metadata": {
    "ExecuteTime": {
     "end_time": "2023-11-08T18:16:02.582308Z",
     "start_time": "2023-11-08T18:16:02.575182800Z"
    },
    "collapsed": false,
    "jupyter": {
     "outputs_hidden": false
    }
   },
   "outputs": [
    {
     "name": "stdout",
     "output_type": "stream",
     "text": [
      "layer 1 weights: \n",
      "[[-3.53 -4.15  3.97  2.33 -1.46  3.27 -0.2   0.14]\n",
      " [-3.03  3.2  -3.85  3.72 -3.34  2.78 -0.07 -0.08]\n",
      " [ 3.22 -0.88  0.64  4.17 -4.   -3.99  0.01 -0.09]]\n",
      "layer 1 biases: \n",
      "0\n",
      "\n",
      "layer 2 weights: \n",
      "[[-5.71 -4.02  5.62]\n",
      " [-7.36  5.85 -1.95]\n",
      " [ 6.79 -6.59  0.87]\n",
      " [ 1.99  4.26  5.88]\n",
      " [-2.36 -5.14 -6.88]\n",
      " [ 4.79  2.98 -6.98]\n",
      " [-1.26 -1.38 -1.44]\n",
      " [-1.37 -1.42 -1.35]]\n",
      "layer 2 biases: \n",
      "[[-1.94]\n",
      " [-1.94]\n",
      " [-4.22]\n",
      " [-9.12]\n",
      " [ 3.44]\n",
      " [-4.25]\n",
      " [-3.44]\n",
      " [-3.43]]\n"
     ]
    }
   ],
   "source": [
    "for i, layer in enumerate(ann_model_11.network):\n",
    "    print(f\"layer {i + 1} weights: \\n{np.around(layer.weights, 2)}\")\n",
    "    print(f\"layer {i + 1} biases: \\n{np.around(layer.bias, 2)}\")\n",
    "    print()"
   ]
  },
  {
   "cell_type": "markdown",
   "id": "3de903429e820900",
   "metadata": {
    "collapsed": false,
    "jupyter": {
     "outputs_hidden": false
    }
   },
   "source": [
    "The model is not able to generalize to the last 2 examples, this is probably because the model is overfitted to the first 6 examples."
   ]
  }
 ],
 "metadata": {
  "kernelspec": {
   "display_name": "Python 3 (ipykernel)",
   "language": "python",
   "name": "python3"
  },
  "language_info": {
   "codemirror_mode": {
    "name": "ipython",
    "version": 3
   },
   "file_extension": ".py",
   "mimetype": "text/x-python",
   "name": "python",
   "nbconvert_exporter": "python",
   "pygments_lexer": "ipython3",
   "version": "3.11.3"
  }
 },
 "nbformat": 4,
 "nbformat_minor": 5
}
